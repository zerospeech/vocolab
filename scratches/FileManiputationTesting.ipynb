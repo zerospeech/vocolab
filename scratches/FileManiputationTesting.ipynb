{
 "cells": [
  {
   "cell_type": "markdown",
   "id": "5d7b97ea",
   "metadata": {},
   "source": [
    "# Testing of remote manipulation functions"
   ]
  },
  {
   "cell_type": "code",
   "execution_count": 1,
   "id": "88b431a3",
   "metadata": {},
   "outputs": [
    {
     "name": "stdout",
     "output_type": "stream",
     "text": [
      "env: ZR_ENV_FILE=/home/nhamilakis/workspace/coml/zerospeech/core/zerospeech-server/test.env\n",
      "/home/nhamilakis/workspace/coml/zerospeech/core/zerospeech-server\n"
     ]
    }
   ],
   "source": [
    "%env ZR_ENV_FILE /home/nhamilakis/workspace/coml/zerospeech/core/zerospeech-server/test.env\n",
    "%cd .."
   ]
  },
  {
   "cell_type": "code",
   "execution_count": 5,
   "id": "df6daf49",
   "metadata": {},
   "outputs": [
    {
     "name": "stdout",
     "output_type": "stream",
     "text": [
      "/home/nhamilakis/workspace/coml/zerospeech/core/zerospeech-server/test.env\n"
     ]
    },
    {
     "data": {
      "text/plain": [
       "{'oberon': PosixPath('/zerospeech/submissions'),\n",
       " 'pl738-pro': PosixPath('/home/nhamilakis/workspace/coml/zerospeech/core/zerospeech-server/data/submissions')}"
      ]
     },
     "execution_count": 5,
     "metadata": {},
     "output_type": "execute_result"
    }
   ],
   "source": [
    "from zerospeech import get_settings\n",
    "import os\n",
    "\n",
    "print(os.environ.get('ZR_ENV_FILE'))\n",
    "\n",
    "st = get_settings()\n",
    "\n",
    "st.REMOTE_STORAGE"
   ]
  },
  {
   "cell_type": "code",
   "execution_count": 6,
   "id": "ce2be677",
   "metadata": {},
   "outputs": [
    {
     "data": {
      "text/html": [
       "<pre style=\"white-space:pre;overflow-x:auto;line-height:normal;font-family:Menlo,'DejaVu Sans Mono',consolas,'Courier New',monospace\"><span style=\"color: #008000; text-decoration-color: #008000; font-weight: bold\">&gt;</span><span style=\"color: #800080; text-decoration-color: #800080; font-weight: bold\">/usr/bin/</span><span style=\"color: #ff00ff; text-decoration-color: #ff00ff; font-weight: bold\">rsync</span><span style=\"color: #008000; text-decoration-color: #008000; font-weight: bold\"> -ahuzPe ssh --delete --</span><span style=\"color: #808000; text-decoration-color: #808000; font-weight: bold\">exclude</span><span style=\"color: #008000; text-decoration-color: #008000; font-weight: bold\">=*.log </span>\n",
       "<span style=\"color: #800080; text-decoration-color: #800080; font-weight: bold\">/home/nhamilakis/tmp/cool_projects/uvicorn/</span><span style=\"color: #008000; text-decoration-color: #008000; font-weight: bold\"> flores:</span><span style=\"color: #800080; text-decoration-color: #800080; font-weight: bold\">/home/nhamilakis/tmp/test_sync/test2/</span>\n",
       "</pre>\n"
      ],
      "text/plain": [
       "\u001b[1;32m>\u001b[0m\u001b[1;35m/usr/bin/\u001b[0m\u001b[1;95mrsync\u001b[0m\u001b[1;32m -ahuzPe ssh --delete --\u001b[0m\u001b[1;33mexclude\u001b[0m\u001b[1;32m=*.log \u001b[0m\n",
       "\u001b[1;35m/home/nhamilakis/tmp/cool_projects/uvicorn/\u001b[0m\u001b[1;32m flores:\u001b[0m\u001b[1;35m/home/nhamilakis/tmp/test_sync/test2/\u001b[0m\n"
      ]
     },
     "metadata": {},
     "output_type": "display_data"
    },
    {
     "name": "stdout",
     "output_type": "stream",
     "text": [
      "It was successful: True\n"
     ]
    }
   ],
   "source": [
    "from zerospeech.utils.misc import rsync\n",
    "from pathlib import Path\n",
    "\n",
    "remote_path = Path('/home/nhamilakis/tmp/test_sync/test2')\n",
    "local_path = Path('/home/nhamilakis/tmp/cool_projects/uvicorn')\n",
    "res = rsync(src=local_path, dest_host='flores', dest=remote_path)\n",
    "print(f'It was successful: {res.returncode == 0}')"
   ]
  },
  {
   "cell_type": "code",
   "execution_count": 6,
   "id": "0c3bbccc",
   "metadata": {
    "scrolled": true
   },
   "outputs": [
    {
     "data": {
      "text/html": [
       "<pre style=\"white-space:pre;overflow-x:auto;line-height:normal;font-family:Menlo,'DejaVu Sans Mono',consolas,'Courier New',monospace\"><span style=\"color: #008000; text-decoration-color: #008000; font-weight: bold\">&gt;</span><span style=\"color: #800080; text-decoration-color: #800080; font-weight: bold\">/usr/bin/</span><span style=\"color: #ff00ff; text-decoration-color: #ff00ff; font-weight: bold\">rsync</span><span style=\"color: #008000; text-decoration-color: #008000; font-weight: bold\"> -ahbuzPe ssh --delete --</span><span style=\"color: #808000; text-decoration-color: #808000; font-weight: bold\">exclude</span><span style=\"color: #008000; text-decoration-color: #008000; font-weight: bold\">=*.log data/submissions/</span><span style=\"color: #008080; text-decoration-color: #008080; font-weight: bold\">123</span><span style=\"color: #008000; text-decoration-color: #008000; font-weight: bold\">-test/ </span>\n",
       "<span style=\"color: #008000; text-decoration-color: #008000; font-weight: bold\">oberon:</span><span style=\"color: #800080; text-decoration-color: #800080; font-weight: bold\">/zerospeech/submissions/123-test/</span>\n",
       "</pre>\n"
      ],
      "text/plain": [
       "\u001b[1;32m>\u001b[0m\u001b[1;35m/usr/bin/\u001b[0m\u001b[1;95mrsync\u001b[0m\u001b[1;32m -ahbuzPe ssh --delete --\u001b[0m\u001b[1;33mexclude\u001b[0m\u001b[1;32m=*.log data/submissions/\u001b[0m\u001b[1;36m123\u001b[0m\u001b[1;32m-test/ \u001b[0m\n",
       "\u001b[1;32moberon:\u001b[0m\u001b[1;35m/zerospeech/submissions/123-test/\u001b[0m\n"
      ]
     },
     "metadata": {},
     "output_type": "display_data"
    },
    {
     "data": {
      "text/plain": [
       "PosixPath('/zerospeech/submissions/123-test')"
      ]
     },
     "execution_count": 6,
     "metadata": {},
     "output_type": "execute_result"
    }
   ],
   "source": [
    "from zerospeech.utils.submissions import transfer_submission_to_remote\n",
    "\n",
    "transfer_submission_to_remote('oberon', \"123-test\")"
   ]
  },
  {
   "cell_type": "code",
   "execution_count": 7,
   "id": "39dc56b3-f962-4e5e-95eb-18811aab0756",
   "metadata": {},
   "outputs": [
    {
     "data": {
      "text/html": [
       "<pre style=\"white-space:pre;overflow-x:auto;line-height:normal;font-family:Menlo,'DejaVu Sans Mono',consolas,'Courier New',monospace\"><span style=\"color: #008000; text-decoration-color: #008000; font-weight: bold\">&gt;</span><span style=\"color: #800080; text-decoration-color: #800080; font-weight: bold\">/usr/bin/</span><span style=\"color: #ff00ff; text-decoration-color: #ff00ff; font-weight: bold\">rsync</span><span style=\"color: #008000; text-decoration-color: #008000; font-weight: bold\"> -ahbuzPe ssh --delete --</span><span style=\"color: #808000; text-decoration-color: #808000; font-weight: bold\">exclude</span><span style=\"color: #008000; text-decoration-color: #008000; font-weight: bold\">=*.log </span>\n",
       "<span style=\"color: #008000; text-decoration-color: #008000; font-weight: bold\">oberon:</span><span style=\"color: #800080; text-decoration-color: #800080; font-weight: bold\">/zerospeech/submissions/123-test/</span><span style=\"color: #008000; text-decoration-color: #008000; font-weight: bold\"> data/submissions/</span><span style=\"color: #008080; text-decoration-color: #008080; font-weight: bold\">123</span><span style=\"color: #008000; text-decoration-color: #008000; font-weight: bold\">-test/</span>\n",
       "</pre>\n"
      ],
      "text/plain": [
       "\u001b[1;32m>\u001b[0m\u001b[1;35m/usr/bin/\u001b[0m\u001b[1;95mrsync\u001b[0m\u001b[1;32m -ahbuzPe ssh --delete --\u001b[0m\u001b[1;33mexclude\u001b[0m\u001b[1;32m=*.log \u001b[0m\n",
       "\u001b[1;32moberon:\u001b[0m\u001b[1;35m/zerospeech/submissions/123-test/\u001b[0m\u001b[1;32m data/submissions/\u001b[0m\u001b[1;36m123\u001b[0m\u001b[1;32m-test/\u001b[0m\n"
      ]
     },
     "metadata": {},
     "output_type": "display_data"
    },
    {
     "data": {
      "text/plain": [
       "PosixPath('data/submissions/123-test')"
      ]
     },
     "execution_count": 7,
     "metadata": {},
     "output_type": "execute_result"
    }
   ],
   "source": [
    "from zerospeech.utils.submissions import fetch_submission_from_remote\n",
    "\n",
    "fetch_submission_from_remote('oberon', \"123-test\")"
   ]
  },
  {
   "cell_type": "code",
   "execution_count": 2,
   "id": "dd313912-da44-4b27-9161-2c3d4b7f29d1",
   "metadata": {},
   "outputs": [
    {
     "data": {
      "text/html": [
       "<pre style=\"white-space:pre;overflow-x:auto;line-height:normal;font-family:Menlo,'DejaVu Sans Mono',consolas,'Courier New',monospace\"><span style=\"color: #800080; text-decoration-color: #800080\">/usr/bin/</span><span style=\"color: #ff00ff; text-decoration-color: #ff00ff\">ssh</span> oberon cat <span style=\"color: #800080; text-decoration-color: #800080\">/zerospeech/submissions/123-test/</span><span style=\"color: #ff00ff; text-decoration-color: #ff00ff\">submission.log</span>\n",
       "</pre>\n"
      ],
      "text/plain": [
       "\u001b[35m/usr/bin/\u001b[0m\u001b[95mssh\u001b[0m oberon cat \u001b[35m/zerospeech/submissions/123-test/\u001b[0m\u001b[95msubmission.log\u001b[0m\n"
      ]
     },
     "metadata": {},
     "output_type": "display_data"
    }
   ],
   "source": [
    "from pathlib import Path\n",
    "from zerospeech.utils.submissions import fetch_submissions_log_from_remote, SubmissionLogger\n",
    "\n",
    "logger = SubmissionLogger(\"123-test\")\n",
    "location = Path(\"/zerospeech/submissions/123-test\")\n",
    "\n",
    "fetch_submissions_log_from_remote('oberon', location, logger)"
   ]
  },
  {
   "cell_type": "code",
   "execution_count": null,
   "id": "a1d530c9-97be-4851-9e90-7aa565921d92",
   "metadata": {},
   "outputs": [],
   "source": []
  }
 ],
 "metadata": {
  "kernelspec": {
   "display_name": "Python 3",
   "language": "python",
   "name": "python3"
  },
  "language_info": {
   "codemirror_mode": {
    "name": "ipython",
    "version": 3
   },
   "file_extension": ".py",
   "mimetype": "text/x-python",
   "name": "python",
   "nbconvert_exporter": "python",
   "pygments_lexer": "ipython3",
   "version": "3.8.8"
  }
 },
 "nbformat": 4,
 "nbformat_minor": 5
}
