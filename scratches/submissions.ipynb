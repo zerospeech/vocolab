{
 "cells": [
  {
   "cell_type": "code",
   "execution_count": 8,
   "id": "57f167c5-0423-4834-860c-d1293313df63",
   "metadata": {},
   "outputs": [],
   "source": [
    "\"\"\" Set up environment \"\"\"\n",
    "import os \n",
    "\n",
    "os.environ['ZR_ENV_FILE'] = \"/home/nhamilakis/workspace/coml/zerospeech/core/zerospeech-server/test.env\""
   ]
  },
  {
   "cell_type": "code",
   "execution_count": 28,
   "id": "5d0f096c-db18-4505-87eb-dabc5dc5cefe",
   "metadata": {},
   "outputs": [
    {
     "name": "stdout",
     "output_type": "stream",
     "text": [
      "env: ZR_ENV_FILE=\"/home/nhamilakis/workspace/coml/zerospeech/core/zerospeech-server/test.env\"\n"
     ]
    },
    {
     "data": {
      "text/html": [
       "<pre style=\"white-space:pre;overflow-x:auto;line-height:normal;font-family:Menlo,'DejaVu Sans Mono',consolas,'Courier New',monospace\">done : \n",
       "</pre>\n"
      ],
      "text/plain": [
       "done : \n"
      ]
     },
     "metadata": {},
     "output_type": "display_data"
    },
    {
     "data": {
      "text/html": [
       "<pre style=\"white-space:pre;overflow-x:auto;line-height:normal;font-family:Menlo,'DejaVu Sans Mono',consolas,'Courier New',monospace\"><span style=\"font-weight: bold\">[</span>\n",
       "    ManifestIndexItem<span style=\"font-weight: bold\">(</span><span style=\"color: #808000; text-decoration-color: #808000\">file_name</span>=<span style=\"color: #008000; text-decoration-color: #008000\">'file5.txt'</span>, <span style=\"color: #808000; text-decoration-color: #808000\">file_size</span>=<span style=\"color: #008080; text-decoration-color: #008080; font-weight: bold\">654982</span>, \n",
       "<span style=\"color: #808000; text-decoration-color: #808000\">file_hash</span>=<span style=\"color: #008000; text-decoration-color: #008000\">'64608cd8e9fd7f161703a7def28ef2a'</span><span style=\"font-weight: bold\">)</span>,\n",
       "    ManifestIndexItem<span style=\"font-weight: bold\">(</span><span style=\"color: #808000; text-decoration-color: #808000\">file_name</span>=<span style=\"color: #008000; text-decoration-color: #008000\">'file4.txt'</span>, <span style=\"color: #808000; text-decoration-color: #808000\">file_size</span>=<span style=\"color: #008080; text-decoration-color: #008080; font-weight: bold\">654982</span>, \n",
       "<span style=\"color: #808000; text-decoration-color: #808000\">file_hash</span>=<span style=\"color: #008000; text-decoration-color: #008000\">'64e79ac20c3ff0935c35c49b465b20b'</span><span style=\"font-weight: bold\">)</span>\n",
       "<span style=\"font-weight: bold\">]</span>\n",
       "</pre>\n"
      ],
      "text/plain": [
       "\u001b[1m[\u001b[0m\n",
       "    ManifestIndexItem\u001b[1m(\u001b[0m\u001b[33mfile_name\u001b[0m=\u001b[32m'file5.txt'\u001b[0m, \u001b[33mfile_size\u001b[0m=\u001b[1;36m654982\u001b[0m, \n",
       "\u001b[33mfile_hash\u001b[0m=\u001b[32m'64608cd8e9fd7f161703a7def28ef2a'\u001b[0m\u001b[1m)\u001b[0m,\n",
       "    ManifestIndexItem\u001b[1m(\u001b[0m\u001b[33mfile_name\u001b[0m=\u001b[32m'file4.txt'\u001b[0m, \u001b[33mfile_size\u001b[0m=\u001b[1;36m654982\u001b[0m, \n",
       "\u001b[33mfile_hash\u001b[0m=\u001b[32m'64e79ac20c3ff0935c35c49b465b20b'\u001b[0m\u001b[1m)\u001b[0m\n",
       "\u001b[1m]\u001b[0m\n"
      ]
     },
     "metadata": {},
     "output_type": "display_data"
    },
    {
     "data": {
      "text/html": [
       "<pre style=\"white-space:pre;overflow-x:auto;line-height:normal;font-family:Menlo,'DejaVu Sans Mono',consolas,'Courier New',monospace\">diff: \n",
       "</pre>\n"
      ],
      "text/plain": [
       "diff: \n"
      ]
     },
     "metadata": {},
     "output_type": "display_data"
    },
    {
     "data": {
      "text/html": [
       "<pre style=\"white-space:pre;overflow-x:auto;line-height:normal;font-family:Menlo,'DejaVu Sans Mono',consolas,'Courier New',monospace\"><span style=\"font-weight: bold\">[</span>\n",
       "    ManifestIndexItem<span style=\"font-weight: bold\">(</span><span style=\"color: #808000; text-decoration-color: #808000\">file_name</span>=<span style=\"color: #008000; text-decoration-color: #008000\">'file1.txt'</span>, <span style=\"color: #808000; text-decoration-color: #808000\">file_size</span>=<span style=\"color: #008080; text-decoration-color: #008080; font-weight: bold\">654982</span>, \n",
       "<span style=\"color: #808000; text-decoration-color: #808000\">file_hash</span>=<span style=\"color: #008000; text-decoration-color: #008000\">'2477afed7154470619c3741ae4e0f40'</span><span style=\"font-weight: bold\">)</span>,\n",
       "    ManifestIndexItem<span style=\"font-weight: bold\">(</span><span style=\"color: #808000; text-decoration-color: #808000\">file_name</span>=<span style=\"color: #008000; text-decoration-color: #008000\">'file6.txt'</span>, <span style=\"color: #808000; text-decoration-color: #808000\">file_size</span>=<span style=\"color: #008080; text-decoration-color: #008080; font-weight: bold\">654982</span>, \n",
       "<span style=\"color: #808000; text-decoration-color: #808000\">file_hash</span>=<span style=\"color: #008000; text-decoration-color: #008000\">'4b19eb5f8dfe53465b8a6f1e54f1988'</span><span style=\"font-weight: bold\">)</span>,\n",
       "    ManifestIndexItem<span style=\"font-weight: bold\">(</span><span style=\"color: #808000; text-decoration-color: #808000\">file_name</span>=<span style=\"color: #008000; text-decoration-color: #008000\">'file3.txt'</span>, <span style=\"color: #808000; text-decoration-color: #808000\">file_size</span>=<span style=\"color: #008080; text-decoration-color: #008080; font-weight: bold\">654982</span>, \n",
       "<span style=\"color: #808000; text-decoration-color: #808000\">file_hash</span>=<span style=\"color: #008000; text-decoration-color: #008000\">'fb933d7248783aaf82daa23112e97a'</span><span style=\"font-weight: bold\">)</span>,\n",
       "    ManifestIndexItem<span style=\"font-weight: bold\">(</span><span style=\"color: #808000; text-decoration-color: #808000\">file_name</span>=<span style=\"color: #008000; text-decoration-color: #008000\">'file2.txt'</span>, <span style=\"color: #808000; text-decoration-color: #808000\">file_size</span>=<span style=\"color: #008080; text-decoration-color: #008080; font-weight: bold\">654982</span>, \n",
       "<span style=\"color: #808000; text-decoration-color: #808000\">file_hash</span>=<span style=\"color: #008000; text-decoration-color: #008000\">'2b222ea50f87d21fd9ddbc7243e8f87'</span><span style=\"font-weight: bold\">)</span>,\n",
       "    ManifestIndexItem<span style=\"font-weight: bold\">(</span><span style=\"color: #808000; text-decoration-color: #808000\">file_name</span>=<span style=\"color: #008000; text-decoration-color: #008000\">'file7.txt'</span>, <span style=\"color: #808000; text-decoration-color: #808000\">file_size</span>=<span style=\"color: #008080; text-decoration-color: #008080; font-weight: bold\">654982</span>, \n",
       "<span style=\"color: #808000; text-decoration-color: #808000\">file_hash</span>=<span style=\"color: #008000; text-decoration-color: #008000\">'3a58853b45512d4f618bc8f0d983d74'</span><span style=\"font-weight: bold\">)</span>\n",
       "<span style=\"font-weight: bold\">]</span>\n",
       "</pre>\n"
      ],
      "text/plain": [
       "\u001b[1m[\u001b[0m\n",
       "    ManifestIndexItem\u001b[1m(\u001b[0m\u001b[33mfile_name\u001b[0m=\u001b[32m'file1.txt'\u001b[0m, \u001b[33mfile_size\u001b[0m=\u001b[1;36m654982\u001b[0m, \n",
       "\u001b[33mfile_hash\u001b[0m=\u001b[32m'2477afed7154470619c3741ae4e0f40'\u001b[0m\u001b[1m)\u001b[0m,\n",
       "    ManifestIndexItem\u001b[1m(\u001b[0m\u001b[33mfile_name\u001b[0m=\u001b[32m'file6.txt'\u001b[0m, \u001b[33mfile_size\u001b[0m=\u001b[1;36m654982\u001b[0m, \n",
       "\u001b[33mfile_hash\u001b[0m=\u001b[32m'4b19eb5f8dfe53465b8a6f1e54f1988'\u001b[0m\u001b[1m)\u001b[0m,\n",
       "    ManifestIndexItem\u001b[1m(\u001b[0m\u001b[33mfile_name\u001b[0m=\u001b[32m'file3.txt'\u001b[0m, \u001b[33mfile_size\u001b[0m=\u001b[1;36m654982\u001b[0m, \n",
       "\u001b[33mfile_hash\u001b[0m=\u001b[32m'fb933d7248783aaf82daa23112e97a'\u001b[0m\u001b[1m)\u001b[0m,\n",
       "    ManifestIndexItem\u001b[1m(\u001b[0m\u001b[33mfile_name\u001b[0m=\u001b[32m'file2.txt'\u001b[0m, \u001b[33mfile_size\u001b[0m=\u001b[1;36m654982\u001b[0m, \n",
       "\u001b[33mfile_hash\u001b[0m=\u001b[32m'2b222ea50f87d21fd9ddbc7243e8f87'\u001b[0m\u001b[1m)\u001b[0m,\n",
       "    ManifestIndexItem\u001b[1m(\u001b[0m\u001b[33mfile_name\u001b[0m=\u001b[32m'file7.txt'\u001b[0m, \u001b[33mfile_size\u001b[0m=\u001b[1;36m654982\u001b[0m, \n",
       "\u001b[33mfile_hash\u001b[0m=\u001b[32m'3a58853b45512d4f618bc8f0d983d74'\u001b[0m\u001b[1m)\u001b[0m\n",
       "\u001b[1m]\u001b[0m\n"
      ]
     },
     "metadata": {},
     "output_type": "display_data"
    }
   ],
   "source": [
    "from zerospeech.utils.misc import ManifestIndexItem\n",
    "import random\n",
    "from rich import print\n",
    "\n",
    "def rand_hash():\n",
    "    return hex(random.getrandbits(123)).split('x')[1]\n",
    "\n",
    "test_list = [\n",
    "    ManifestIndexItem(file_name=\"file1.txt\", file_size=654982, file_hash=rand_hash()),\n",
    "    ManifestIndexItem(file_name=\"file2.txt\", file_size=654982, file_hash=rand_hash()),\n",
    "    ManifestIndexItem(file_name=\"file3.txt\", file_size=654982, file_hash=rand_hash()),\n",
    "    ManifestIndexItem(file_name=\"file4.txt\", file_size=654982, file_hash=rand_hash()),\n",
    "    ManifestIndexItem(file_name=\"file5.txt\", file_size=654982, file_hash=rand_hash()),\n",
    "    ManifestIndexItem(file_name=\"file6.txt\", file_size=654982, file_hash=rand_hash()),\n",
    "    ManifestIndexItem(file_name=\"file7.txt\", file_size=654982, file_hash=rand_hash()),    \n",
    "]\n",
    "\n",
    "test_list2 = []\n",
    "\n",
    "for _ in range(random.randint(1,len(test_list))):\n",
    "    test_list2.append(random.choice(test_list))\n",
    "    \n",
    "test_list2 = list(set(test_list2))\n",
    "\n",
    "diff = list(set(test_list) - set(test_list2))\n",
    "\n",
    "\"\"\"\n",
    "Testing the diff of two list of ManifestIndexItem objects\n",
    "\n",
    "\"\"\"\n",
    "\n",
    "print(\"done : \")\n",
    "print(test_list2)\n",
    "print('diff: ')\n",
    "print(diff)"
   ]
  },
  {
   "cell_type": "code",
   "execution_count": 10,
   "id": "e9971498-4cf9-43a9-9b2c-19231c41d44d",
   "metadata": {},
   "outputs": [
    {
     "name": "stdout",
     "output_type": "stream",
     "text": [
      "Async event loop already running\n"
     ]
    }
   ],
   "source": []
  },
  {
   "cell_type": "code",
   "execution_count": null,
   "id": "e5d3eb08-806c-489f-a3bc-4860f20e42a1",
   "metadata": {},
   "outputs": [],
   "source": []
  }
 ],
 "metadata": {
  "kernelspec": {
   "display_name": "Python 3",
   "language": "python",
   "name": "python3"
  },
  "language_info": {
   "codemirror_mode": {
    "name": "ipython",
    "version": 3
   },
   "file_extension": ".py",
   "mimetype": "text/x-python",
   "name": "python",
   "nbconvert_exporter": "python",
   "pygments_lexer": "ipython3",
   "version": "3.8.8"
  }
 },
 "nbformat": 4,
 "nbformat_minor": 5
}
